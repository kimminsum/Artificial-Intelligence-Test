{
 "cells": [
  {
   "cell_type": "code",
   "execution_count": 1,
   "metadata": {},
   "outputs": [],
   "source": [
    "import tensorflow as tf"
   ]
  },
  {
   "cell_type": "code",
   "execution_count": 2,
   "metadata": {},
   "outputs": [
    {
     "name": "stdout",
     "output_type": "stream",
     "text": [
      "Downloading data from https://storage.googleapis.com/tensorflow/tf-keras-datasets/mnist.npz\n",
      "11490434/11490434 [==============================] - 0s 0us/step\n",
      "Epoch 1/5\n",
      "1875/1875 [==============================] - 26s 13ms/step - loss: 0.2602 - accuracy: 0.9267\n",
      "Epoch 2/5\n",
      "1875/1875 [==============================] - 22s 12ms/step - loss: 0.1136 - accuracy: 0.9664\n",
      "Epoch 3/5\n",
      "1875/1875 [==============================] - 21s 11ms/step - loss: 0.0779 - accuracy: 0.9770\n",
      "Epoch 4/5\n",
      "1875/1875 [==============================] - 20s 11ms/step - loss: 0.0581 - accuracy: 0.9823\n",
      "Epoch 5/5\n",
      "1875/1875 [==============================] - 19s 10ms/step - loss: 0.0459 - accuracy: 0.9855\n",
      "313/313 [==============================] - 4s 8ms/step - loss: 0.0778 - accuracy: 0.9766\n"
     ]
    },
    {
     "data": {
      "text/plain": [
       "[0.0777556523680687, 0.9765999913215637]"
      ]
     },
     "execution_count": 2,
     "metadata": {},
     "output_type": "execute_result"
    }
   ],
   "source": [
    "mnist = tf.keras.datasets.mnist\n",
    "\n",
    "(x_train, y_train), (x_test, y_test) = mnist.load_data()\n",
    "x_train, x_test = x_train / 255.0, x_test / 255.0\n",
    "x_train, x_test = x_train.reshape((60000, 784)), x_test.reshape((10000, 784))\n",
    "\n",
    "model = tf.keras.Sequential([\n",
    "    tf.keras.layers.InputLayer(input_shape=(784,)),\n",
    "    tf.keras.layers.Dense(128, activation=\"relu\"),\n",
    "    tf.keras.layers.Dense(10, activation=\"softmax\")\n",
    "])\n",
    "\n",
    "model.compile(optimizer=\"adam\",\n",
    "                loss=\"sparse_categorical_crossentropy\",\n",
    "                metrics=[\"accuracy\"]\n",
    ")\n",
    "\n",
    "model.fit(x_train, y_train, epochs=5)\n",
    "model.evaluate(x_test, y_test)"
   ]
  },
  {
   "cell_type": "code",
   "execution_count": null,
   "metadata": {},
   "outputs": [],
   "source": []
  }
 ],
 "metadata": {
  "kernelspec": {
   "display_name": "Python 3.10.5 64-bit",
   "language": "python",
   "name": "python3"
  },
  "language_info": {
   "codemirror_mode": {
    "name": "ipython",
    "version": 3
   },
   "file_extension": ".py",
   "mimetype": "text/x-python",
   "name": "python",
   "nbconvert_exporter": "python",
   "pygments_lexer": "ipython3",
   "version": "3.10.5"
  },
  "orig_nbformat": 4,
  "vscode": {
   "interpreter": {
    "hash": "2eed6381e3275af77f742cc768b57fa22de6718e88095d2c7dc88ebc99d5d688"
   }
  }
 },
 "nbformat": 4,
 "nbformat_minor": 2
}

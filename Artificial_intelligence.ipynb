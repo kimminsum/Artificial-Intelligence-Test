{
 "cells": [
  {
   "cell_type": "code",
   "execution_count": null,
   "metadata": {},
   "outputs": [],
   "source": [
    "import tensorflow as tf\n",
    "import numpy as np\n",
    "\n",
    "xs = np.array([-1.0, 0.0, 1.0, 2.0, 3.0, 4.0])\n",
    "ys = np.array([-2.0, 1.0, 4.0, 7.0, 10., 13.])\n",
    "\n",
    "model = tf.keras.Sequential([\n",
    "    tf.keras.layers.InputLayer(input_shape=(1,)),\n",
    "    tf.keras.layers.Dense(1)\n",
    "])\n",
    "\n",
    "model.compile(optimize=\"sgd\", loss=\"mean_squared_error\")\n",
    "model.fit(xs, ys, epochs=5)\n",
    "\n",
    "p = model.predict([10.])\n",
    "\n",
    "print(p)"
   ]
  }
 ],
 "metadata": {
  "kernelspec": {
   "display_name": "Python 3.10.5 64-bit",
   "language": "python",
   "name": "python3"
  },
  "language_info": {
   "name": "python",
   "version": "3.10.5"
  },
  "orig_nbformat": 4,
  "vscode": {
   "interpreter": {
    "hash": "2eed6381e3275af77f742cc768b57fa22de6718e88095d2c7dc88ebc99d5d688"
   }
  }
 },
 "nbformat": 4,
 "nbformat_minor": 2
}

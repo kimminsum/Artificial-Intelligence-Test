{
 "cells": [
  {
   "cell_type": "code",
   "execution_count": 12,
   "metadata": {},
   "outputs": [],
   "source": [
    "import tensorflow as tf\n",
    "import numpy as np"
   ]
  },
  {
   "cell_type": "code",
   "execution_count": 13,
   "metadata": {},
   "outputs": [
    {
     "ename": "TypeError",
     "evalue": "Invalid keyword argument(s) in `compile()`: ({'optimize'},). Valid keyword arguments include \"cloning\", \"experimental_run_tf_function\", \"distribute\", \"target_tensors\", or \"sample_weight_mode\".",
     "output_type": "error",
     "traceback": [
      "\u001b[1;31m---------------------------------------------------------------------------\u001b[0m",
      "\u001b[1;31mTypeError\u001b[0m                                 Traceback (most recent call last)",
      "\u001b[1;32mc:\\Users\\tommy\\OneDrive\\바탕 화면\\Artificial-Intelligence-Test\\Artificial_intelligence.ipynb 셀 2\u001b[0m in \u001b[0;36m<cell line: 9>\u001b[1;34m()\u001b[0m\n\u001b[0;32m      <a href='vscode-notebook-cell:/c%3A/Users/tommy/OneDrive/%EB%B0%94%ED%83%95%20%ED%99%94%EB%A9%B4/Artificial-Intelligence-Test/Artificial_intelligence.ipynb#ch0000001?line=1'>2</a>\u001b[0m ys \u001b[39m=\u001b[39m np\u001b[39m.\u001b[39marray([\u001b[39m-\u001b[39m\u001b[39m2.0\u001b[39m, \u001b[39m1.0\u001b[39m, \u001b[39m4.0\u001b[39m, \u001b[39m7.0\u001b[39m, \u001b[39m10.0\u001b[39m, \u001b[39m13.0\u001b[39m])\n\u001b[0;32m      <a href='vscode-notebook-cell:/c%3A/Users/tommy/OneDrive/%EB%B0%94%ED%83%95%20%ED%99%94%EB%A9%B4/Artificial-Intelligence-Test/Artificial_intelligence.ipynb#ch0000001?line=3'>4</a>\u001b[0m model \u001b[39m=\u001b[39m tf\u001b[39m.\u001b[39mkeras\u001b[39m.\u001b[39mSequential([\n\u001b[0;32m      <a href='vscode-notebook-cell:/c%3A/Users/tommy/OneDrive/%EB%B0%94%ED%83%95%20%ED%99%94%EB%A9%B4/Artificial-Intelligence-Test/Artificial_intelligence.ipynb#ch0000001?line=4'>5</a>\u001b[0m     tf\u001b[39m.\u001b[39mkeras\u001b[39m.\u001b[39mlayers\u001b[39m.\u001b[39mInputLayer(input_shape\u001b[39m=\u001b[39m(\u001b[39m1\u001b[39m,)),\n\u001b[0;32m      <a href='vscode-notebook-cell:/c%3A/Users/tommy/OneDrive/%EB%B0%94%ED%83%95%20%ED%99%94%EB%A9%B4/Artificial-Intelligence-Test/Artificial_intelligence.ipynb#ch0000001?line=5'>6</a>\u001b[0m     tf\u001b[39m.\u001b[39mkeras\u001b[39m.\u001b[39mlayers\u001b[39m.\u001b[39mDense(\u001b[39m1\u001b[39m)\n\u001b[0;32m      <a href='vscode-notebook-cell:/c%3A/Users/tommy/OneDrive/%EB%B0%94%ED%83%95%20%ED%99%94%EB%A9%B4/Artificial-Intelligence-Test/Artificial_intelligence.ipynb#ch0000001?line=6'>7</a>\u001b[0m ])\n\u001b[1;32m----> <a href='vscode-notebook-cell:/c%3A/Users/tommy/OneDrive/%EB%B0%94%ED%83%95%20%ED%99%94%EB%A9%B4/Artificial-Intelligence-Test/Artificial_intelligence.ipynb#ch0000001?line=8'>9</a>\u001b[0m model\u001b[39m.\u001b[39;49mcompile(optimize\u001b[39m=\u001b[39;49m\u001b[39m\"\u001b[39;49m\u001b[39msgd\u001b[39;49m\u001b[39m\"\u001b[39;49m, loss\u001b[39m=\u001b[39;49m\u001b[39m\"\u001b[39;49m\u001b[39mmean_squared_error\u001b[39;49m\u001b[39m\"\u001b[39;49m)\n\u001b[0;32m     <a href='vscode-notebook-cell:/c%3A/Users/tommy/OneDrive/%EB%B0%94%ED%83%95%20%ED%99%94%EB%A9%B4/Artificial-Intelligence-Test/Artificial_intelligence.ipynb#ch0000001?line=9'>10</a>\u001b[0m model\u001b[39m.\u001b[39mfit(xs, ys, epochs\u001b[39m=\u001b[39m\u001b[39m5\u001b[39m)\n\u001b[0;32m     <a href='vscode-notebook-cell:/c%3A/Users/tommy/OneDrive/%EB%B0%94%ED%83%95%20%ED%99%94%EB%A9%B4/Artificial-Intelligence-Test/Artificial_intelligence.ipynb#ch0000001?line=11'>12</a>\u001b[0m p \u001b[39m=\u001b[39m model\u001b[39m.\u001b[39mpredict([\u001b[39m10.0\u001b[39m])\n",
      "File \u001b[1;32mc:\\Users\\tommy\\AppData\\Local\\Programs\\Python\\Python310\\lib\\site-packages\\keras\\utils\\traceback_utils.py:67\u001b[0m, in \u001b[0;36mfilter_traceback.<locals>.error_handler\u001b[1;34m(*args, **kwargs)\u001b[0m\n\u001b[0;32m     65\u001b[0m \u001b[39mexcept\u001b[39;00m \u001b[39mException\u001b[39;00m \u001b[39mas\u001b[39;00m e:  \u001b[39m# pylint: disable=broad-except\u001b[39;00m\n\u001b[0;32m     66\u001b[0m   filtered_tb \u001b[39m=\u001b[39m _process_traceback_frames(e\u001b[39m.\u001b[39m__traceback__)\n\u001b[1;32m---> 67\u001b[0m   \u001b[39mraise\u001b[39;00m e\u001b[39m.\u001b[39mwith_traceback(filtered_tb) \u001b[39mfrom\u001b[39;00m \u001b[39mNone\u001b[39m\n\u001b[0;32m     68\u001b[0m \u001b[39mfinally\u001b[39;00m:\n\u001b[0;32m     69\u001b[0m   \u001b[39mdel\u001b[39;00m filtered_tb\n",
      "File \u001b[1;32mc:\\Users\\tommy\\AppData\\Local\\Programs\\Python\\Python310\\lib\\site-packages\\keras\\engine\\training.py:3077\u001b[0m, in \u001b[0;36mModel._validate_compile\u001b[1;34m(self, optimizer, metrics, **kwargs)\u001b[0m\n\u001b[0;32m   3075\u001b[0m invalid_kwargs \u001b[39m=\u001b[39m \u001b[39mset\u001b[39m(kwargs) \u001b[39m-\u001b[39m {\u001b[39m'\u001b[39m\u001b[39msample_weight_mode\u001b[39m\u001b[39m'\u001b[39m}\n\u001b[0;32m   3076\u001b[0m \u001b[39mif\u001b[39;00m invalid_kwargs:\n\u001b[1;32m-> 3077\u001b[0m   \u001b[39mraise\u001b[39;00m \u001b[39mTypeError\u001b[39;00m(\u001b[39m'\u001b[39m\u001b[39mInvalid keyword argument(s) in `compile()`: \u001b[39m\u001b[39m'\u001b[39m\n\u001b[0;32m   3078\u001b[0m                   \u001b[39mf\u001b[39m\u001b[39m'\u001b[39m\u001b[39m{\u001b[39;00m(invalid_kwargs,)\u001b[39m}\u001b[39;00m\u001b[39m. Valid keyword arguments include \u001b[39m\u001b[39m'\u001b[39m\n\u001b[0;32m   3079\u001b[0m                   \u001b[39m'\u001b[39m\u001b[39m\"\u001b[39m\u001b[39mcloning\u001b[39m\u001b[39m\"\u001b[39m\u001b[39m, \u001b[39m\u001b[39m\"\u001b[39m\u001b[39mexperimental_run_tf_function\u001b[39m\u001b[39m\"\u001b[39m\u001b[39m, \u001b[39m\u001b[39m\"\u001b[39m\u001b[39mdistribute\u001b[39m\u001b[39m\"\u001b[39m\u001b[39m,\u001b[39m\u001b[39m'\u001b[39m\n\u001b[0;32m   3080\u001b[0m                   \u001b[39m'\u001b[39m\u001b[39m \u001b[39m\u001b[39m\"\u001b[39m\u001b[39mtarget_tensors\u001b[39m\u001b[39m\"\u001b[39m\u001b[39m, or \u001b[39m\u001b[39m\"\u001b[39m\u001b[39msample_weight_mode\u001b[39m\u001b[39m\"\u001b[39m\u001b[39m.\u001b[39m\u001b[39m'\u001b[39m)\n\u001b[0;32m   3082\u001b[0m \u001b[39m# Model must be created and compiled with the same DistStrat.\u001b[39;00m\n\u001b[0;32m   3083\u001b[0m \u001b[39mif\u001b[39;00m \u001b[39mself\u001b[39m\u001b[39m.\u001b[39mbuilt \u001b[39mand\u001b[39;00m tf\u001b[39m.\u001b[39mdistribute\u001b[39m.\u001b[39mhas_strategy():\n",
      "\u001b[1;31mTypeError\u001b[0m: Invalid keyword argument(s) in `compile()`: ({'optimize'},). Valid keyword arguments include \"cloning\", \"experimental_run_tf_function\", \"distribute\", \"target_tensors\", or \"sample_weight_mode\"."
     ]
    }
   ],
   "source": [
    "xs = np.array([-1.0, 0.0, 1.0, 2.0, 3.0, 4.0])\n",
    "ys = np.array([-2.0, 1.0, 4.0, 7.0, 10.0, 13.0])\n",
    "\n",
    "model = tf.keras.Sequential([\n",
    "    tf.keras.layers.InputLayer(input_shape=(1,)),\n",
    "    tf.keras.layers.Dense(1)\n",
    "])\n",
    "\n",
    "model.compile(optimize=\"sgd\", loss=\"mean_squared_error\")\n",
    "model.fit(xs, ys, epochs=5)\n",
    "\n",
    "p = model.predict([10.0])\n",
    "\n",
    "print(p)"
   ]
  }
 ],
 "metadata": {
  "kernelspec": {
   "display_name": "Python 3.10.5 64-bit",
   "language": "python",
   "name": "python3"
  },
  "language_info": {
   "codemirror_mode": {
    "name": "ipython",
    "version": 3
   },
   "file_extension": ".py",
   "mimetype": "text/x-python",
   "name": "python",
   "nbconvert_exporter": "python",
   "pygments_lexer": "ipython3",
   "version": "3.10.5"
  },
  "orig_nbformat": 4,
  "vscode": {
   "interpreter": {
    "hash": "2eed6381e3275af77f742cc768b57fa22de6718e88095d2c7dc88ebc99d5d688"
   }
  }
 },
 "nbformat": 4,
 "nbformat_minor": 2
}
